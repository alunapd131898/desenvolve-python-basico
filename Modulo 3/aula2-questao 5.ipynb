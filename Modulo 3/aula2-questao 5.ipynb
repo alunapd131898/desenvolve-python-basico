{
 "cells": [
  {
   "cell_type": "code",
   "execution_count": 8,
   "metadata": {},
   "outputs": [
    {
     "name": "stdout",
     "output_type": "stream",
     "text": [
      "True False True True\n"
     ]
    }
   ],
   "source": [
    "#Entrada de dados\n",
    "#Genero idade e tempo de serviço\n",
    "genero = input()\n",
    "idade = int(input())\n",
    "tempo = int(input())\n",
    "#Processamento\n",
    "# A Para mulher ter mais de 60 ano, para homens, 65\n",
    "# B Ou ter trabalhado pelo menos 30 anos\n",
    "# C Ou ter 60 anos e trabalhado pelo menos 25.\n",
    "a = (genero == 'f' and idade >= 60) or \\\n",
    "    (genero == 'm' and idade >= 65)\n",
    "b = tempo >=30\n",
    "c = idade >= 60 and tempo >= 25\n",
    "\n",
    "pode_aposentar = a or b or c\n",
    "\n",
    "# Saída\n",
    "print (a, b, c, pode_aposentar)"
   ]
  }
 ],
 "metadata": {
  "kernelspec": {
   "display_name": "Python 3.12 (myenv)",
   "language": "python",
   "name": "myenv"
  },
  "language_info": {
   "codemirror_mode": {
    "name": "ipython",
    "version": 3
   },
   "file_extension": ".py",
   "mimetype": "text/x-python",
   "name": "python",
   "nbconvert_exporter": "python",
   "pygments_lexer": "ipython3",
   "version": "3.12.3"
  }
 },
 "nbformat": 4,
 "nbformat_minor": 2
}
