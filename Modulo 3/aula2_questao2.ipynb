{
 "cells": [
  {
   "cell_type": "code",
   "execution_count": 3,
   "metadata": {},
   "outputs": [
    {
     "name": "stdout",
     "output_type": "stream",
     "text": [
      "você não pode entrar no Bar.\n"
     ]
    }
   ],
   "source": [
    "# entrada de dados\n",
    "# idade de Juliana\n",
    "# idade de Cris\n",
    "idade_Juliana = int(input())\n",
    "idade_Cris = int(input())\n",
    "\n",
    "# Processamento\n",
    "# Digite a idade de Juliana e Cris\n",
    "# True se pelo menos um dos dois for maior de idade\n",
    "# False caso contrário\n",
    "\n",
    "if idade_Juliana >= 18 or idade_Cris >= 18: \n",
    "    print(\"você pode entrar no Bar.\")\n",
    "\n",
    "else:\n",
    "    print (\"você não pode entrar no Bar.\")\n",
    "\n",
    "# Saída\n",
    "\n"
   ]
  }
 ],
 "metadata": {
  "kernelspec": {
   "display_name": "Python 3.12 (myenv)",
   "language": "python",
   "name": "myenv"
  },
  "language_info": {
   "codemirror_mode": {
    "name": "ipython",
    "version": 3
   },
   "file_extension": ".py",
   "mimetype": "text/x-python",
   "name": "python",
   "nbconvert_exporter": "python",
   "pygments_lexer": "ipython3",
   "version": "3.12.3"
  }
 },
 "nbformat": 4,
 "nbformat_minor": 2
}
