{
 "cells": [
  {
   "cell_type": "code",
   "execution_count": null,
   "metadata": {},
   "outputs": [],
   "source": [
    "# Você é mestre de uma mesa de RPG e vai criar um sistema para validar uma ficha de personagem. \n",
    "# Cada personagem tem uma classe específica com requisitos de atributos. Escreva um script que solicita a classe\n",
    "# de personagem escolhida (guerreiro, mago ou arqueiro), os pontos de força e os pontos de magia atribuídos ao personagem. \n",
    "# O programa deve imprimir True se os pontos de atributo são consistentes com a classe escolhida, seguindo as seguintes regras:\n",
    "# Guerreiro: Força deve ser igual ou superior a 15, Magia deve ser 10 ou menos.\n",
    "# Mago: Força deve ser 10 ou menos, Magia deve ser igual ou superior a 15.\n",
    "# Arqueiro: Força e Magia devem ser ambos superiores a 5, mas nenhum deles pode ser superior a 15.\n",
    "# O programa deve imprimir False se os pontos de atributo não são consistentes com a classe escolhida. Segue um exemplo de interação \n",
    "# com seu código no terminal, com entradas de dados destacadas em negrito e as impressões de seu código em itálico.\n",
    "\n",
    "# Escolha a classe (guerreiro, mago ou arqueiro): mago\n",
    "# Digite os pontos de força (de 1 a 20): 8\n",
    "# Digite os pontos de magia (de 1 a 20): 17\n",
    "# Pontos de atributo consistentes com a classe escolhida: True\n",
    "Classe=input(\"Escolha a classe (guerreiro, mago, ouarqueiro): \")\n",
    "força=int(input(\"Digite os pontos de força (de 1 a 20):\"))\n",
    "magia=int(input(\"Digite os pontos de magia (de 1 a 20):\"))\n",
    "forçatem= ((Classe==\"guerreiro\" and força>= 15) or (Classe==\"mago\" and força<=10) or (Classe==\"arqueiro\" and (força>5 and força<15)))\n",
    "magiatem= ((Classe==\"guerreiro\" and magia <=10) or (Classe==\"mago\" and magia>=15) or (Classe==\"arqueiro\" and (magia>5 and magia,15)))\n",
    "         "
   ]
  }
 ],
 "metadata": {
  "kernelspec": {
   "display_name": "Python 3.12 (myenv)",
   "language": "python",
   "name": "myenv"
  },
  "language_info": {
   "codemirror_mode": {
    "name": "ipython",
    "version": 3
   },
   "file_extension": ".py",
   "mimetype": "text/x-python",
   "name": "python",
   "nbconvert_exporter": "python",
   "pygments_lexer": "ipython3",
   "version": "3.12.3"
  }
 },
 "nbformat": 4,
 "nbformat_minor": 2
}
