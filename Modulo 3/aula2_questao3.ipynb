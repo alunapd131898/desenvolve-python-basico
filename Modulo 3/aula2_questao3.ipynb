{
 "cells": [
  {
   "cell_type": "code",
   "execution_count": 9,
   "metadata": {},
   "outputs": [
    {
     "name": "stdout",
     "output_type": "stream",
     "text": [
      "Aptos para ingressar nos jogos de clube de tabuleiro:  False\n"
     ]
    }
   ],
   "source": [
    "# Você está desenvolvendo um sistema de admissão para um clube juvenil de jogos de tabuleiro.\n",
    "# Escreva um programa em Python que pergunte ao usuário sua idade, se já jogou pelo menos 3 jogos de tabuleiro (resposta deve ser True ou False)\n",
    "# e quantas vezes venceu um jogo. O programa deve imprimir True, permitindo o ingresso do participante no clube, se:\n",
    "#tiver entre 16 e 18 anos\n",
    "#já tiver jogado pelo menos 3 jogos\n",
    "#já ter vencido pelo menos 1 jogo, \n",
    "\n",
    "# Sua expressão deve imprimir False caso contrário. Aqui está um exemplo de interação com seu código no terminal, com entradas de dados destacadas \n",
    "# em negrito e as impressões de seu código em itálico (apenas para facilitar sua visualização).\n",
    "\n",
    "#Digite sua idade: 17\n",
    "#Já jogou pelo menos 3 jogos de tabuleiro? True\n",
    "#Quantos jogos já venceu? 2\n",
    "#Apto para ingressar no clube de jogos de tabuleiro: True\n",
    "idade = int(input (\"Digite sua idade: \"))\n",
    "ndejogos=(input(\"Já jogou pelo menos 3 jogos de tabuleiro? \"))\n",
    "vitorias= int(input(\"Quantos jogos já venceu? \"))\n",
    "print(\"Aptos para ingressar nos jogos de clube de tabuleiro: \", (idade>=16 and idade<=18) and ( ndejogos==True) and (vitorias>=1))"
   ]
  }
 ],
 "metadata": {
  "kernelspec": {
   "display_name": "Python 3.12 (myenv)",
   "language": "python",
   "name": "myenv"
  },
  "language_info": {
   "codemirror_mode": {
    "name": "ipython",
    "version": 3
   },
   "file_extension": ".py",
   "mimetype": "text/x-python",
   "name": "python",
   "nbconvert_exporter": "python",
   "pygments_lexer": "ipython3",
   "version": "3.12.3"
  }
 },
 "nbformat": 4,
 "nbformat_minor": 2
}
