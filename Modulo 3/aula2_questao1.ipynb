{
 "cells": [
  {
   "cell_type": "code",
   "execution_count": 2,
   "metadata": {},
   "outputs": [
    {
     "name": "stdout",
     "output_type": "stream",
     "text": [
      "você é maior de idade.\n"
     ]
    }
   ],
   "source": [
    "# entrada de dados\n",
    "# idade de Juliana\n",
    "# idade de Cris\n",
    "idade_Juliana = int(input())\n",
    "idade_Cris = int(input())\n",
    "\n",
    "# Processamento\n",
    "# Digite a idade de Juliana e Cris\n",
    "# True se forem maior de idade\n",
    "# False caso contrário\n",
    "\n",
    "if idade_Juliana >= 18 and idade_Cris >= 18: \n",
    "    print(\"você é maior de idade.\")\n",
    "\n",
    "else:\n",
    "    print (\"você é menor de idade.\")\n",
    "\n",
    "# Saída\n"
   ]
  }
 ],
 "metadata": {
  "kernelspec": {
   "display_name": "Python 3.12 (myenv)",
   "language": "python",
   "name": "myenv"
  },
  "language_info": {
   "codemirror_mode": {
    "name": "ipython",
    "version": 3
   },
   "file_extension": ".py",
   "mimetype": "text/x-python",
   "name": "python",
   "nbconvert_exporter": "python",
   "pygments_lexer": "ipython3",
   "version": "3.12.3"
  }
 },
 "nbformat": 4,
 "nbformat_minor": 2
}
