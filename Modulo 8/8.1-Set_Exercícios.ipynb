{
 "cells": [
  {
   "cell_type": "markdown",
   "id": "0d5035b5",
   "metadata": {},
   "source": [
    "# Set\n",
    "\n",
    "## Aula 8.1"
   ]
  },
  {
   "cell_type": "markdown",
   "id": "0bdece85",
   "metadata": {},
   "source": [
    "### Q1. \n",
    "\n",
    "Dada uma string qualquer, use seu conhecimento de sets para apresentar os caracteres únicos que aparecem na string, ordenados alfabeticamente e sem duplicatas. Preste atenção em duplicatas de maiúsculas e minúsculas.\n"
   ]
  },
  {
   "cell_type": "code",
   "execution_count": 1,
   "id": "0a258eba",
   "metadata": {},
   "outputs": [
    {
     "name": "stdout",
     "output_type": "stream",
     "text": [
      "['a', 'b', 'd', 'e', 'n', 'o', 'p', 'r', 's', 't', 'u']\n"
     ]
    }
   ],
   "source": [
    "frase = \"O rato roeu a roupa do Robson\"\n",
    "\n",
    "## Implemente aqui sua solução\n",
    "frase = \"O rato roeu a roupa do Robson\"\n",
    "\n",
    "# Converter a frase para minúsculas\n",
    "frase_minuscula = frase.lower()\n",
    "\n",
    "# Criar um conjunto com os caracteres únicos\n",
    "caracteres_unicos = set(frase_minuscula)\n",
    "\n",
    "# Remover espaços em branco, se necessário\n",
    "caracteres_sem_espaco = caracteres_unicos - {' '}\n",
    "\n",
    "# Ordenar os caracteres\n",
    "caracteres_ordenados = sorted(caracteres_sem_espaco)\n",
    "\n",
    "# Exibir o resultado\n",
    "print(caracteres_ordenados)\n",
    "\n"
   ]
  },
  {
   "cell_type": "markdown",
   "id": "0856bd56",
   "metadata": {},
   "source": [
    "### Q2\n",
    "\n",
    "Desenvolva uma função em Python chamada ```tem_elementos_comuns()``` que recebe duas listas como parâmetros e retorna True se houver algum elemento comum entre as duas listas, e False caso contrário. Utilize sets para resolver essa tarefa."
   ]
  },
  {
   "cell_type": "code",
   "execution_count": 2,
   "id": "f7ab6736",
   "metadata": {},
   "outputs": [],
   "source": [
    "# Implemente aqui a função tem_elementos_comuns()\n",
    "# Implemente aqui a função tem_elementos_comuns()\n",
    "def tem_elementos_comuns(lista1, lista2):\n",
    "    return bool(set(lista1) & set(lista2))\n",
    "\n"
   ]
  },
  {
   "cell_type": "code",
   "execution_count": 3,
   "id": "1022744a",
   "metadata": {},
   "outputs": [
    {
     "name": "stdout",
     "output_type": "stream",
     "text": [
      "True\n"
     ]
    }
   ],
   "source": [
    "# Execute esta célula para testar a função da Q2.\n",
    "\n",
    "lista1 = [1, 2, 3, 4]\n",
    "lista2 = [3, 4, 5, 6, 7]\n",
    "resultado = tem_elementos_comuns(lista1, lista2)\n",
    "print(resultado)  # Saída esperada: True"
   ]
  },
  {
   "cell_type": "markdown",
   "id": "649a5082",
   "metadata": {},
   "source": [
    "### Q3. \n",
    "\n",
    "Você vai coletar de diferentes turmas de alunos seus interesses em atividades extra curriculares dentre futebol, vôlei, rugby, música, teatro, ações comunitárias. Informe o conjunto de atividades comuns a todas a turmas. Pode preencher o iterável turmas com valores arbitrários. \n"
   ]
  },
  {
   "cell_type": "code",
   "execution_count": 4,
   "id": "880a9927",
   "metadata": {},
   "outputs": [
    {
     "name": "stdout",
     "output_type": "stream",
     "text": [
      "Atividades comuns a todas as turmas: {'rugby'}\n"
     ]
    }
   ],
   "source": [
    "turmas = [\n",
    "     {'ações comunitárias', 'futebol', 'música', 'rugby'},\n",
    "     {'ações comunitárias', 'música', 'rugby', 'teatro'},\n",
    "     {'música', 'rugby', 'teatro', 'vôlei'},\n",
    "     {'música', 'vôlei', 'rugby'},\n",
    "     {'ações comunitárias', 'futebol', 'rugby', 'teatro', 'vôlei'},\n",
    "     {'ações comunitárias', 'futebol', 'rugby'},\n",
    "     {'ações comunitárias', 'rugby', 'teatro', 'vôlei'},\n",
    "     {'ações comunitárias', 'rugby', 'teatro', 'vôlei'},\n",
    "     {'ações comunitárias', 'rugby', 'vôlei'}\n",
    "]\n",
    "\n",
    "\n",
    "## Implemente aqui sua \n",
    "\n",
    "# Inicializa com o conjunto da primeira turma\n",
    "comuns = turmas[0]\n",
    "\n",
    "# Faz a interseção com os conjuntos das demais turmas\n",
    "for turma in turmas[1:]:\n",
    "    comuns = comuns.intersection(turma)\n",
    "\n",
    "print(\"Atividades comuns a todas as turmas:\", comuns)\n",
    "\n",
    "\n"
   ]
  },
  {
   "cell_type": "markdown",
   "id": "021e2b1e",
   "metadata": {},
   "source": [
    "### Q4. \n",
    "Considere duas listas que são duplicatas uma da outra, exceto por um elemento, exemplo:\n",
    "```\n",
    "A = [1, 4, 5, 7, 9]\n",
    "B = [4, 5, 7, 9]\n",
    "```\n",
    "\n",
    "Encontre e apresente o elemento diferente, informando também qual das listas está desfalcada. Para o exemplo acima, a saída esperada é\n",
    "```\n",
    "O elemento 1 está faltando na segunda lista\n",
    "```"
   ]
  },
  {
   "cell_type": "code",
   "execution_count": 5,
   "id": "608761a4",
   "metadata": {},
   "outputs": [
    {
     "name": "stdout",
     "output_type": "stream",
     "text": [
      "O elemento 1 está faltando na segunda lista\n"
     ]
    }
   ],
   "source": [
    "## Implemente aqui sua solução\n",
    "def encontrar_diferenca(A, B):\n",
    "    # Converte as listas para conjuntos\n",
    "    set_A = set(A)\n",
    "    set_B = set(B)\n",
    "\n",
    "    # Verifica qual conjunto tem mais elementos\n",
    "    if len(A) > len(B):\n",
    "        elemento_faltando = list(set_A - set_B)[0]\n",
    "        print(f\"O elemento {elemento_faltando} está faltando na segunda lista\")\n",
    "    elif len(B) > len(A):\n",
    "        elemento_faltando = list(set_B - set_A)[0]\n",
    "        print(f\"O elemento {elemento_faltando} está faltando na primeira lista\")\n",
    "    else:\n",
    "        print(\"As listas têm o mesmo tamanho, não há elemento faltando\")\n",
    "\n",
    "# Exemplo de uso\n",
    "A = [1, 4, 5, 7, 9]\n",
    "B = [4, 5, 7, 9]\n",
    "encontrar_diferenca(A, B)\n"
   ]
  },
  {
   "cell_type": "markdown",
   "id": "ddf180c1",
   "metadata": {},
   "source": [
    "### Q5.\n",
    "\n",
    "Panagramas são frases que contém todas as letras do alfabeto pelo menos uma vez. Crie uma função ```checa_panagrama``` que recebe uma string e retorna ```True``` caso seja um panagrama ou ```False```caso contrário. Use seu conhecimento de sets para solucionar essa questão.\n",
    "\n",
    "Ex: \n",
    "```\n",
    "Entrada: \"The quick brown fox jumps over the lazy dog\" \n",
    "Saída: É um panagrama\n",
    "```\n",
    "\n",
    "```\n",
    "Entrada: \"Python é uma linguagem de programação\" \n",
    "Saída: Não é um panagrama\n",
    "```"
   ]
  },
  {
   "cell_type": "code",
   "execution_count": 14,
   "id": "4e8b0390",
   "metadata": {},
   "outputs": [
    {
     "name": "stdout",
     "output_type": "stream",
     "text": [
      "É um panagrama\n",
      "Não é um panagrama\n"
     ]
    }
   ],
   "source": [
    "## Implemente aqui sua solução\n",
    "def checa_panagrama(frase):\n",
    "    alfabeto = set('abcdefghijklmnopqrstuvwxyz')\n",
    "    letras_na_frase = set(frase.lower())\n",
    "    if alfabeto.issubset(letras_na_frase):\n",
    "        return \"É um panagrama\"\n",
    "    else:\n",
    "        return \"Não é um panagrama\"\n",
    "\n",
    "print(checa_panagrama(\"The quick brown fox jumps over the lazy dog\"))\n",
    "# Saída: É um panagrama\n",
    "\n",
    "print(checa_panagrama(\"Python é uma linguagem de programação\"))\n",
    "# Saída: Não é um panagrama\n",
    "\n",
    "    \n"
   ]
  }
 ],
 "metadata": {
  "kernelspec": {
   "display_name": "Python 3",
   "language": "python",
   "name": "python3"
  },
  "language_info": {
   "codemirror_mode": {
    "name": "ipython",
    "version": 3
   },
   "file_extension": ".py",
   "mimetype": "text/x-python",
   "name": "python",
   "nbconvert_exporter": "python",
   "pygments_lexer": "ipython3",
   "version": "3.12.2"
  }
 },
 "nbformat": 4,
 "nbformat_minor": 5
}
