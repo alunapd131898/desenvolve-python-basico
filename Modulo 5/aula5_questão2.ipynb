{
 "cells": [
  {
   "cell_type": "code",
   "execution_count": 5,
   "metadata": {},
   "outputs": [
    {
     "name": "stdout",
     "output_type": "stream",
     "text": [
      "Raiz quadrada da soma: 9.59\n"
     ]
    }
   ],
   "source": [
    "import random\n",
    "import math\n",
    "\n",
    "n = int(input(\"Digite a quantidade de números aleatórios: \"))\n",
    "numeros = [random.randint(0, 100) for _ in range(n)]\n",
    "raiz_quadrada = math.sqrt(sum(numeros))\n",
    "\n",
    "print(f\"Raiz quadrada da soma: {round(raiz_quadrada, 2)}\")\n"
   ]
  }
 ],
 "metadata": {
  "kernelspec": {
   "display_name": "Python 3",
   "language": "python",
   "name": "python3"
  },
  "language_info": {
   "codemirror_mode": {
    "name": "ipython",
    "version": 3
   },
   "file_extension": ".py",
   "mimetype": "text/x-python",
   "name": "python",
   "nbconvert_exporter": "python",
   "pygments_lexer": "ipython3",
   "version": "3.12.2"
  }
 },
 "nbformat": 4,
 "nbformat_minor": 2
}
