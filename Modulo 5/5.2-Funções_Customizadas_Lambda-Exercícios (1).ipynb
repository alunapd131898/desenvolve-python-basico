{
 "cells": [
  {
   "cell_type": "markdown",
   "id": "cbdff5a5",
   "metadata": {},
   "source": [
    "# Módulo 5 - Funções\n",
    "\n",
    "## Aulas 5.2 - Funções Customizadas e 5.4 Funções ```lambda```"
   ]
  },
  {
   "cell_type": "markdown",
   "id": "28a3fee2",
   "metadata": {},
   "source": [
    "### Q1.\n",
    "\n",
    "- Sabendo que o código a seguir calcula o fatorial de n, escreva uma função chamada ```fatorial()``` que recebe um inteiro ```n``` como parâmetro e retorna o resultado do fatorial de ```n```. \n",
    "- No programa principal, peça ao usuário o valor de ```n```, chame a sua função e imprima o retorno.\n",
    "\n",
    "```python\n",
    "fat = 1\n",
    "for i in range(1, n+1):\n",
    "    fat *= i \n",
    "```"
   ]
  },
  {
   "cell_type": "code",
   "execution_count": 4,
   "id": "d126b3a5",
   "metadata": {},
   "outputs": [],
   "source": [
    "# Função fatorial\n",
    "def fatorial(n):\n",
    "    fat = 1\n",
    "    for i in range(1, n + 1):\n",
    "        fat *= i\n",
    "    return fat"
   ]
  },
  {
   "cell_type": "code",
   "execution_count": 5,
   "id": "6e4fe64e",
   "metadata": {},
   "outputs": [
    {
     "name": "stdout",
     "output_type": "stream",
     "text": [
      "O fatorial de 5 é 120\n"
     ]
    }
   ],
   "source": [
    "n = int(input(\"Digite um número para calcular o fatorial: \"))\n",
    "resultado = fatorial(n)\n",
    "print(f\"O fatorial de {n} é {resultado}\")\n",
    "\n"
   ]
  },
  {
   "cell_type": "markdown",
   "id": "c0a1f599",
   "metadata": {},
   "source": [
    "### Q2.\n",
    "\n",
    "- Escreva uma função em Python chamada ```soma_quadrados``` que recebe dois números como parâmetros e retorna a soma dos seus quadrados. \n",
    "- No programa principal solicite ao usuário que insira dois números e utilize a função para exibir a soma dos quadrados."
   ]
  },
  {
   "cell_type": "code",
   "execution_count": 1,
   "id": "6dbddaad",
   "metadata": {},
   "outputs": [],
   "source": [
    "# Função que retorna a soma dos quadrados de dois números\n",
    "def soma_quadrados(a, b):\n",
    "    return a**2 + b**2\n",
    "\n",
    "\n"
   ]
  },
  {
   "cell_type": "code",
   "execution_count": 3,
   "id": "9175a7da",
   "metadata": {},
   "outputs": [
    {
     "name": "stdout",
     "output_type": "stream",
     "text": [
      "A soma dos quadrados de 6.0 e 8.0 é: 100.0\n"
     ]
    }
   ],
   "source": [
    "\n",
    "# Solicita ao usuário os dois números\n",
    "num1 = float(input(\"Digite o primeiro número: \"))\n",
    "num2 = float(input(\"Digite o segundo número: \"))\n",
    "\n",
    "# Chama a função e exibe o resultado\n",
    "resultado = soma_quadrados(num1, num2)\n",
    "print(f\"A soma dos quadrados de {num1} e {num2} é: {resultado}\")\n",
    "\n"
   ]
  },
  {
   "cell_type": "markdown",
   "id": "6ba34ce0",
   "metadata": {},
   "source": [
    "### Q3.\n",
    "\n",
    "- Crie uma função em Python chamada ```soma_digitos``` que recebe um número inteiro como parâmetro e retorna a soma dos seus dígitos. Por exemplo, para o número 123, a função deve retornar 6, $(1 + 2 + 3)$.\n",
    "    - O desafio aqui é separar os dígitos de um número inteiro usando operações aritméticas <br> <br>\n",
    "\n",
    "- No programa principal solicite ao usuário que insira um número e utilize a função ```soma_digitos``` para calcular e exibir a soma dos seus dígitos."
   ]
  },
  {
   "cell_type": "code",
   "execution_count": 4,
   "id": "34838ebf",
   "metadata": {},
   "outputs": [],
   "source": [
    "## Crie aqui a função soma_digitos()\n",
    "# Função que calcula a soma dos dígitos de um número inteiro\n",
    "def soma_digitos(numero):\n",
    "    soma = 0\n",
    "    while numero > 0:\n",
    "        soma += numero % 10  # Obtém o último dígito\n",
    "        numero //= 10  # Remove o último dígito\n",
    "    return soma\n",
    "\n",
    "\n"
   ]
  },
  {
   "cell_type": "code",
   "execution_count": 5,
   "id": "27c35b21",
   "metadata": {},
   "outputs": [
    {
     "name": "stdout",
     "output_type": "stream",
     "text": [
      "A soma dos dígitos do número 4 é: 4\n"
     ]
    }
   ],
   "source": [
    "# Programa principal\n",
    "numero = int(input(\"Digite um número inteiro: \"))\n",
    "resultado = soma_digitos(numero)\n",
    "print(f\"A soma dos dígitos do número {numero} é: {resultado}\")\n",
    "\n"
   ]
  },
  {
   "cell_type": "markdown",
   "id": "c318b159",
   "metadata": {},
   "source": [
    "### Q4.\n",
    "\n",
    "- Crie a função ```inverteValor()``` que recebe um inteiro de qualquer tamanho e retorna esse valor invertido usando apenas operações aritméticas\n",
    "- Crie a função ```verificaInverso()``` que recebe o valor original e o valor invertido e retorna verdadeiro se ambos forem igualmente par ou igualmente ímpar. Retorne falso caso contrário.\n",
    "- No programa principal, peça um valor do usuário e imprima o retorno de ambas as funções.\n"
   ]
  },
  {
   "cell_type": "code",
   "execution_count": 6,
   "id": "e4e47d1d",
   "metadata": {},
   "outputs": [],
   "source": [
    "def inverteValor(valor):\n",
    "    valor_invertido = 0\n",
    "    while valor != 0:\n",
    "        digito = valor % 10  # pega o último dígito\n",
    "        valor_invertido = valor_invertido * 10 + digito  # coloca o dígito na posição correta\n",
    "        valor = valor // 10  # remove o último dígito do número\n",
    "    return valor_invertido\n",
    "\n",
    "# Função que verifica se o valor original e o valor invertido são igualmente pares ou igualmente ímpares\n",
    "def verificaInverso(valor_original, valor_invertido):\n",
    "    # Verifica se ambos são pares ou ambos são ímpares\n",
    "    return valor_original % 2 == valor_invertido % 2\n"
   ]
  },
  {
   "cell_type": "code",
   "execution_count": 7,
   "id": "a9514e56",
   "metadata": {},
   "outputs": [
    {
     "name": "stdout",
     "output_type": "stream",
     "text": [
      "Valor original: 10\n",
      "Valor invertido: 1\n",
      "Os valores têm a mesma paridade? False\n"
     ]
    }
   ],
   "source": [
    "## Escreva aqui o programa principal e execute a célula\n",
    "def main():\n",
    "    # Solicita ao usuário que insira um valor\n",
    "    valor_original = int(input(\"Digite um valor inteiro: \"))\n",
    "    \n",
    "    # Inverte o valor usando a função inverteValor\n",
    "    valor_invertido = inverteValor(valor_original)\n",
    "    \n",
    "    # Verifica se os valores têm a mesma paridade\n",
    "    resultado_verificacao = verificaInverso(valor_original, valor_invertido)\n",
    "    \n",
    "    # Imprime os resultados\n",
    "    print(f\"Valor original: {valor_original}\")\n",
    "    print(f\"Valor invertido: {valor_invertido}\")\n",
    "    print(f\"Os valores têm a mesma paridade? {resultado_verificacao}\")\n",
    "\n",
    "# Chama o programa principal\n",
    "main()\n"
   ]
  },
  {
   "cell_type": "markdown",
   "id": "329be966",
   "metadata": {},
   "source": [
    "### Q5.\n",
    "\n",
    "Você está desenvolvendo um programa para auxiliar em cálculos de geometria básica. Crie as seguintes funções:\n",
    "- A função ```calcula_perimetro_triangulo()``` que recebe três inteiros correspondentes aos lados de um triângulo e retorna o perímetro do triângulo, ou seja, a soma dos seus lados.\n",
    "- A função ```calcula_perimetro_circulo()``` que recebe um inteiro referente ao raio do círculo e retorna o perímetro do círculo, dado por $2 \\pi r$. Use a constante $\\pi$ da biblioteca ```math```.\n",
    "- A função ```calcula_perimetro_retangulo()``` que possui um parâmetro obrigatório ```lado1``` e um opcional ```lado2```, ambos inteiros. Se o valor opcional não for fornecido, significa que se trata de um quadrado. Sua função deve calcular e retornar o perímetro do retângulo, ou seja, a soma de seus lados. \n",
    "    - Para o quadrado, é dado por $4 \\times lado1$\n",
    "    - Para o retângulo é dado por $2 \\times lado1 + 2 \\times lado2$\n",
    "    \n",
    "- No programa principal apresente um menu com as opções disponíveis do seu sistema e uma quarta opção ```Sair```. Solicite ao usuário a opção desejada, solicite as entradas correspondentes à opção escolhida, invoque a respective função e apresente o seu retorno. Seu programa deve retornar ao menu até que o usuário escolha a opção ```Sair```\n",
    "\n",
    "Exemplo de interação:\n",
    "```\n",
    "1 - Calcular perímetro triângulo\n",
    "2 - Calcular perímetro círculo\n",
    "3 - Calcular perímetro retângulo\n",
    "4 - Sair\n",
    "\n",
    "Opção: 1\n",
    "Digite os três lados do triângulo:\n",
    "3\n",
    "4\n",
    "5\n",
    "O perímetro é: 12\n",
    "\n",
    "1 - Calcular perímetro triângulo\n",
    "2 - Calcular perímetro círculo\n",
    "3 - Calcular perímetro retângulo\n",
    "4 - Sair\n",
    "\n",
    "Opção: 3\n",
    "Informe os dois lados do retângulo. Se for um quadrado, digite 0 para o segundo valor:\n",
    "5\n",
    "0\n",
    "O perímetro é: 20\n",
    "\n",
    "1 - Calcular perímetro triângulo\n",
    "2 - Calcular perímetro círculo\n",
    "3 - Calcular perímetro retângulo\n",
    "4 - Sair\n",
    "\n",
    "Opção: 4\n",
    "```"
   ]
  },
  {
   "cell_type": "code",
   "execution_count": 8,
   "id": "0793d328",
   "metadata": {},
   "outputs": [],
   "source": [
    "## Crie aqui as funções \n",
    "import math\n",
    "\n",
    "# Função para calcular o perímetro do triângulo\n",
    "def calcula_perimetro_triangulo(lado1, lado2, lado3):\n",
    "    return lado1 + lado2 + lado3\n",
    "\n",
    "# Função para calcular o perímetro do círculo\n",
    "def calcula_perimetro_circulo(raio):\n",
    "    return 2 * math.pi * raio\n",
    "\n",
    "# Função para calcular o perímetro do retângulo ou quadrado\n",
    "def calcula_perimetro_retangulo(lado1, lado2=0):\n",
    "    if lado2 == 0:\n",
    "        return 4 * lado1  # Quadrado\n",
    "    else:\n",
    "        return 2 * lado1 + 2 * lado2  # Retângulo\n",
    "\n"
   ]
  },
  {
   "cell_type": "code",
   "execution_count": 10,
   "id": "36269c71",
   "metadata": {},
   "outputs": [
    {
     "name": "stdout",
     "output_type": "stream",
     "text": [
      "1 - Calcular perímetro triângulo\n",
      "2 - Calcular perímetro círculo\n",
      "3 - Calcular perímetro retângulo\n",
      "4 - Sair\n",
      "Opção inválida! Tente novamente.\n",
      "1 - Calcular perímetro triângulo\n",
      "2 - Calcular perímetro círculo\n",
      "3 - Calcular perímetro retângulo\n",
      "4 - Sair\n",
      "Opção inválida! Tente novamente.\n",
      "1 - Calcular perímetro triângulo\n",
      "2 - Calcular perímetro círculo\n",
      "3 - Calcular perímetro retângulo\n",
      "4 - Sair\n",
      "Opção inválida! Tente novamente.\n",
      "1 - Calcular perímetro triângulo\n",
      "2 - Calcular perímetro círculo\n",
      "3 - Calcular perímetro retângulo\n",
      "4 - Sair\n",
      "Opção inválida! Tente novamente.\n",
      "1 - Calcular perímetro triângulo\n",
      "2 - Calcular perímetro círculo\n",
      "3 - Calcular perímetro retângulo\n",
      "4 - Sair\n",
      "Opção inválida! Tente novamente.\n",
      "1 - Calcular perímetro triângulo\n",
      "2 - Calcular perímetro círculo\n",
      "3 - Calcular perímetro retângulo\n",
      "4 - Sair\n",
      "Opção inválida! Tente novamente.\n",
      "1 - Calcular perímetro triângulo\n",
      "2 - Calcular perímetro círculo\n",
      "3 - Calcular perímetro retângulo\n",
      "4 - Sair\n",
      "O perímetro é: 18.85\n",
      "1 - Calcular perímetro triângulo\n",
      "2 - Calcular perímetro círculo\n",
      "3 - Calcular perímetro retângulo\n",
      "4 - Sair\n",
      "Opção inválida! Tente novamente.\n",
      "1 - Calcular perímetro triângulo\n",
      "2 - Calcular perímetro círculo\n",
      "3 - Calcular perímetro retângulo\n",
      "4 - Sair\n",
      "Saindo...\n"
     ]
    }
   ],
   "source": [
    "## Escreva aqui o programa principal \n",
    "# Função principal que exibe o menu e interage com o usuário\n",
    "def main():\n",
    "    while True:\n",
    "        # Exibe o menu\n",
    "        print(\"1 - Calcular perímetro triângulo\")\n",
    "        print(\"2 - Calcular perímetro círculo\")\n",
    "        print(\"3 - Calcular perímetro retângulo\")\n",
    "        print(\"4 - Sair\")\n",
    "        \n",
    "        # Solicita a opção ao usuário\n",
    "        opcao = int(input(\"Opção: \"))\n",
    "        \n",
    "        if opcao == 1:\n",
    "            # Solicita os lados do triângulo\n",
    "            print(\"Digite os três lados do triângulo:\")\n",
    "            lado1 = int(input())\n",
    "            lado2 = int(input())\n",
    "            lado3 = int(input())\n",
    "            # Chama a função e exibe o resultado\n",
    "            perimetro = calcula_perimetro_triangulo(lado1, lado2, lado3)\n",
    "            print(f\"O perímetro é: {perimetro}\")\n",
    "        \n",
    "        elif opcao == 2:\n",
    "            # Solicita o raio do círculo\n",
    "            raio = int(input(\"Digite o raio do círculo: \"))\n",
    "            # Chama a função e exibe o resultado\n",
    "            perimetro = calcula_perimetro_circulo(raio)\n",
    "            print(f\"O perímetro é: {perimetro:.2f}\")\n",
    "        \n",
    "        elif opcao == 3:\n",
    "            # Solicita os lados do retângulo\n",
    "            print(\"Informe os dois lados do retângulo. Se for um quadrado, digite 0 para o segundo valor:\")\n",
    "            lado1 = int(input())\n",
    "            lado2 = int(input())\n",
    "            # Chama a função e exibe o resultado\n",
    "            perimetro = calcula_perimetro_retangulo(lado1, lado2)\n",
    "            print(f\"O perímetro é: {perimetro}\")\n",
    "        \n",
    "        elif opcao == 4:\n",
    "            # Encerra o programa\n",
    "            print(\"Saindo...\")\n",
    "            break\n",
    "        \n",
    "        else:\n",
    "            print(\"Opção inválida! Tente novamente.\")\n",
    "\n",
    "# Chama a função principal para rodar o programa\n",
    "if __name__ == \"__main__\":\n",
    "    main()\n",
    "\n"
   ]
  },
  {
   "cell_type": "markdown",
   "id": "3016bcc7",
   "metadata": {},
   "source": [
    "## Funções ```lambda```"
   ]
  },
  {
   "cell_type": "markdown",
   "id": "f9cdb8dd",
   "metadata": {},
   "source": [
    "### Q6.\n",
    "\n",
    "Crie uma função lambda para verificar se um número é par ou ímpar. Em seguida, solicite ao usuário um número indefinidos de valores (até que o usuário digite 0). Para cada valor de entrada, informe se é par ou ímpar.\n",
    "\n",
    "Exemplo de interação:\n",
    "```\n",
    "Digite os valores que deseja verificar a paridade (digite 0 para finalizar a entrada de dados):\n",
    "3\n",
    "ímpar\n",
    "8\n",
    "par\n",
    "12\n",
    "par\n",
    "5\n",
    "ímpar\n",
    "7ímpar\n",
    "```"
   ]
  },
  {
   "cell_type": "code",
   "execution_count": 11,
   "id": "e3c31a78",
   "metadata": {},
   "outputs": [
    {
     "name": "stdout",
     "output_type": "stream",
     "text": [
      "ímpar\n",
      "par\n",
      "par\n",
      "ímpar\n"
     ]
    }
   ],
   "source": [
    "# Função lambda para verificar se o número é par ou ímpar\n",
    "par_ou_impar = lambda x: 'par' if x % 2 == 0 else 'ímpar'\n",
    "\n",
    "# Loop para entrada de dados do usuário\n",
    "while True:\n",
    "    valor = int(input(\"Digite os valores que deseja verificar a paridade (digite 0 para finalizar a entrada de dados): \"))\n",
    "    \n",
    "    if valor == 0:\n",
    "        break\n",
    "    \n",
    "    # Exibe se o número é par ou ímpar\n",
    "    print(par_ou_impar(valor))\n"
   ]
  },
  {
   "cell_type": "markdown",
   "id": "5a87474d",
   "metadata": {},
   "source": [
    "### Q7.\n",
    "\n",
    "Escreva um programa que pergunte ao usuário qual operação ele deseja: maior ou menor.\n",
    "Em seguida leia uma quantidade indefinida de valores do usuário, até que o usuário digite o valor zero.\n",
    "Apresente ao final o maior ou menor dos valores digitados de acordo com a escolha do usuário.\n",
    "\n",
    "**Sua solução deve incluir pelo menos uma função ```lambda```** \n",
    "\n",
    "Exemplo de interação:\n",
    "```\n",
    "Opções: (1) maior ou (2) menor?\n",
    "Opção: 1\n",
    "\n",
    "Digite os valores de entrada. Digite 0 para finalizar a entrada de valores.\n",
    "4\n",
    "12\n",
    "15\n",
    "1\n",
    "0\n",
    "\n",
    "O maior valor é: 15\n",
    "```"
   ]
  },
  {
   "cell_type": "code",
   "execution_count": 12,
   "id": "ee3f68ca",
   "metadata": {},
   "outputs": [
    {
     "name": "stdout",
     "output_type": "stream",
     "text": [
      "O menor valor é: 20\n"
     ]
    }
   ],
   "source": [
    " # Função principal para pedir o tipo de operação e processar os valores\n",
    "def calcular_valor():\n",
    "    # Pergunta qual operação o usuário deseja\n",
    "    operacao = int(input(\"Opções: (1) maior ou (2) menor?\\nOpção: \"))\n",
    "    \n",
    "    # Função lambda para calcular maior ou menor\n",
    "    calc = (lambda valores: max(valores) if operacao == 1 else min(valores))\n",
    "\n",
    "    # Lista para armazenar os valores\n",
    "    valores = []\n",
    "\n",
    "    # Solicita os valores ao usuário até que ele digite 0\n",
    "    while True:\n",
    "        valor = int(input(\"Digite os valores de entrada. Digite 0 para finalizar a entrada de valores.\\n\"))\n",
    "        if valor == 0:\n",
    "            break\n",
    "        valores.append(valor)\n",
    "\n",
    "    # Chama a função lambda e exibe o resultado\n",
    "    if valores:  # Verifica se a lista não está vazia\n",
    "        resultado = calc(valores)\n",
    "        if operacao == 1:\n",
    "            print(f\"O maior valor é: {resultado}\")\n",
    "        else:\n",
    "            print(f\"O menor valor é: {resultado}\")\n",
    "    else:\n",
    "        print(\"Nenhum valor foi digitado.\")\n",
    "\n",
    "# Chama a função principal\n",
    "calcular_valor()\n",
    "\n"
   ]
  }
 ],
 "metadata": {
  "kernelspec": {
   "display_name": "Python 3",
   "language": "python",
   "name": "python3"
  },
  "language_info": {
   "codemirror_mode": {
    "name": "ipython",
    "version": 3
   },
   "file_extension": ".py",
   "mimetype": "text/x-python",
   "name": "python",
   "nbconvert_exporter": "python",
   "pygments_lexer": "ipython3",
   "version": "3.13.3"
  }
 },
 "nbformat": 4,
 "nbformat_minor": 5
}
