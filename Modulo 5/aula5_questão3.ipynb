{
 "cells": [
  {
   "cell_type": "code",
   "execution_count": null,
   "metadata": {},
   "outputs": [],
   "source": [
    "import random\n",
    "\n",
    "numero_secreto = random.randint(1,10)\n",
    "while True:\n",
    "    palpite = int(input(\"Adivinhe o número entre 1 e 10: \"))\n",
    "    if palpite < numero_secreto:\n",
    "        print(\"Muito baixo, tente novamente!\")\n",
    "    elif palpite > numero_secreto:\n",
    "        print(\"Muito alto, tente novamente!\")\n",
    "    else:\n",
    "        print(f\"Correto! O número é {numero_secreto}.\")\n",
    "        break\n",
    "\n"
   ]
  }
 ],
 "metadata": {
  "kernelspec": {
   "display_name": "Python 3",
   "language": "python",
   "name": "python3"
  },
  "language_info": {
   "codemirror_mode": {
    "name": "ipython",
    "version": 3
   },
   "file_extension": ".py",
   "mimetype": "text/x-python",
   "name": "python",
   "nbconvert_exporter": "python",
   "pygments_lexer": "ipython3",
   "version": "3.12.2"
  }
 },
 "nbformat": 4,
 "nbformat_minor": 2
}
