{
 "cells": [
  {
   "cell_type": "code",
   "execution_count": 1,
   "metadata": {},
   "outputs": [
    {
     "name": "stdout",
     "output_type": "stream",
     "text": [
      "Emojis disponíveis:\n",
      " ❤️- :red_heart: \n",
      " 👍- :thumbs_up: \n",
      " 🤔- :thinking_face: \n",
      " 🥳- :partying_face: \n",
      "Frase emojizada: coração joia\n"
     ]
    }
   ],
   "source": [
    "import emoji\n",
    "\n",
    "print(\"Emojis disponíveis:\")\n",
    "print(\" ❤️- :red_heart: \")\n",
    "print(\" 👍- :thumbs_up: \")\n",
    "print(\" 🤔- :thinking_face: \")\n",
    "print(\" 🥳- :partying_face: \")\n",
    "\n",
    "frase_codificada = input(\"Digite uma frase e ela será emojizada: \")\n",
    "frase_emojizada = emoji.emojize(frase_codificada, language='alias')\n",
    "print(f\"Frase emojizada: {frase_emojizada}\")"
   ]
  }
 ],
 "metadata": {
  "kernelspec": {
   "display_name": "Python 3",
   "language": "python",
   "name": "python3"
  },
  "language_info": {
   "codemirror_mode": {
    "name": "ipython",
    "version": 3
   },
   "file_extension": ".py",
   "mimetype": "text/x-python",
   "name": "python",
   "nbconvert_exporter": "python",
   "pygments_lexer": "ipython3",
   "version": "3.12.2"
  }
 },
 "nbformat": 4,
 "nbformat_minor": 2
}
