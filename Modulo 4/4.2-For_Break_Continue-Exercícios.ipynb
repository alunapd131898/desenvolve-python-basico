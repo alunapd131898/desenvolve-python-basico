{
 "cells": [
  {
   "cell_type": "markdown",
   "id": "29e89030",
   "metadata": {},
   "source": [
    "# Módulo 4 - Repetições\n",
    "\n",
    "## Aulas 4.2 - Comando ```for``` e 4.3 Break e Continue"
   ]
  },
  {
   "cell_type": "markdown",
   "id": "a45b42df",
   "metadata": {},
   "source": [
    "### Q1.\n",
    "\n",
    "Crie um programa em Python que utilize o comando for para imprimir os números de 10 a 1, em ordem decrescente."
   ]
  },
  {
   "cell_type": "code",
   "execution_count": 3,
   "id": "55a75b3d",
   "metadata": {},
   "outputs": [
    {
     "name": "stdout",
     "output_type": "stream",
     "text": [
      "10\n",
      "9\n",
      "8\n",
      "7\n",
      "6\n",
      "5\n",
      "4\n",
      "3\n",
      "2\n",
      "1\n"
     ]
    }
   ],
   "source": [
    "for num in range(10,0,-1):\n",
    "    print (num)\n",
    "\n",
    "\n"
   ]
  },
  {
   "cell_type": "markdown",
   "id": "94b47c36",
   "metadata": {},
   "source": [
    "### Q2.\n",
    "\n",
    "Dado um número inteiro positivo informado pelo usuário, crie um programa em Python que utilize o comando for para calcular e exibir a soma dos números de 1 até o número informado. Ou seja, $1 + 2 + 3 + ... + n$\n",
    "\n",
    "Exemplo de interação:\n",
    "```\n",
    "Digite um número: 5\n",
    "A soma dos números de 1 a 5 é 15\n",
    "```\n"
   ]
  },
  {
   "cell_type": "code",
   "execution_count": 3,
   "id": "45b71596",
   "metadata": {},
   "outputs": [
    {
     "name": "stdout",
     "output_type": "stream",
     "text": [
      "A soma dos números de 1 a 3 é 6\n"
     ]
    }
   ],
   "source": [
    "\n",
    "# Solicita um número inteiro positivo ao usuário\n",
    "n = int(input(\"Digite um número: \"))\n",
    "\n",
    "# Inicializa a variável soma\n",
    "soma = 0\n",
    "\n",
    "# Loop para somar os números de 1 até n\n",
    "for num in range(1, n + 1):\n",
    "    soma += num\n",
    "\n",
    "# Exibe o resultado\n",
    "print(f\"A soma dos números de 1 a {n} é {soma}\")\n"
   ]
  },
  {
   "cell_type": "markdown",
   "id": "0411d170",
   "metadata": {},
   "source": [
    "### Q3.\n",
    "\n",
    "Escreva um programa que lê 10 valores inteiros positivos do usuário e ao final imprime a média dos valores digitados com duas casas decimais.\n",
    "\n",
    "```\n",
    "Digite 10 números positivos:\n",
    "3\n",
    "2\n",
    "12\n",
    "14\n",
    "20\n",
    "42\n",
    "19\n",
    "0\n",
    "8\n",
    "1\n",
    "A média dos valores digitados é 12.10\n",
    "```"
   ]
  },
  {
   "cell_type": "code",
   "execution_count": 1,
   "id": "3f72f358",
   "metadata": {},
   "outputs": [
    {
     "name": "stdout",
     "output_type": "stream",
     "text": [
      "Digite 10 números positivos:\n",
      "A média dos valores digitados é 6.00\n"
     ]
    }
   ],
   "source": [
    "print(\"Digite 10 números positivos:\")\n",
    "\n",
    "# Inicializa a soma\n",
    "soma = 0\n",
    "\n",
    "# Lê 10 números do usuário\n",
    "for i in range(10):\n",
    "    num = int(input())  # Lê um número inteiro\n",
    "    soma += num  # Adiciona à soma\n",
    "\n",
    "# Calcula a média\n",
    "media = soma / 10\n",
    "\n",
    "# Exibe o resultado com duas casas decimais\n",
    "print(f\"A média dos valores digitados é {media:.2f}\")\n"
   ]
  },
  {
   "cell_type": "markdown",
   "id": "d62e27ff",
   "metadata": {},
   "source": [
    "### Q4.\n",
    "\n",
    "Você vai criar um sistema que registra os resultados dos jogos do Atlético MG ao longo de um campeonato. Seu sistema vai receber os resultados de todos os jogos do Galo, e deve calcular a pontuação do time sabendo que vitórias valem 3 pontos, empates 1 ponto e derrotas 0 pontos.\n",
    "\n",
    "Entrada: <br>\n",
    "A primeira linha de entrada é um inteiro N com a quantidade jogos do galo. Para cada jogo você deve ler 2 inteiros, o primeiro com a quantidade de gols do galo e o segundo com a quantidade de gols do time oponente. \n",
    "\n",
    "Saída: <br>\n",
    "Apresente a soma de vitórias, empates e derrotas do galo, junto com o cálculo da pontuação total.\n",
    "\n",
    "Ex:\n",
    "```\n",
    "Entrada:\n",
    "4\n",
    "2\n",
    "0\n",
    "1\n",
    "1\n",
    "0\n",
    "3\n",
    "1\n",
    "0\n",
    "\n",
    "Saída:\n",
    "Vitórias: 2\n",
    "Empates: 1\n",
    "Derrotas: 1\n",
    "Pontuação: 7\n",
    "\n",
    "```\n",
    "\n",
    "\n"
   ]
  },
  {
   "cell_type": "code",
   "execution_count": 4,
   "id": "d3fdfc2a",
   "metadata": {},
   "outputs": [
    {
     "name": "stdout",
     "output_type": "stream",
     "text": [
      "Vitórias: 0\n",
      "Empates: 1\n",
      "Derrotas: 0\n",
      "Pontuação: 1\n"
     ]
    }
   ],
   "source": [
    "# Lê a quantidade de jogos\n",
    "N = int(input())\n",
    "\n",
    "# Inicializa contadores\n",
    "vitorias = 0\n",
    "empates = 0\n",
    "derrotas = 0\n",
    "\n",
    "# Processa cada jogo\n",
    "for _ in range(N):\n",
    "    gols_galo = int(input())  # Gols do Atlético MG\n",
    "    gols_oponente = int(input())  # Gols do adversário\n",
    "\n",
    "    if gols_galo > gols_oponente:\n",
    "        vitorias += 1  # Vitória\n",
    "    elif gols_galo == gols_oponente:\n",
    "        empates += 1  # Empate\n",
    "    else:\n",
    "        derrotas += 1  # Derrota\n",
    "\n",
    "# Calcula pontuação total\n",
    "pontuacao = (vitorias * 3) + (empates * 1)\n",
    "\n",
    "# Exibe os resultados\n",
    "print(f\"Vitórias: {vitorias}\")\n",
    "print(f\"Empates: {empates}\")\n",
    "print(f\"Derrotas: {derrotas}\")\n",
    "print(f\"Pontuação: {pontuacao}\")\n"
   ]
  },
  {
   "cell_type": "markdown",
   "id": "fc98604d",
   "metadata": {},
   "source": [
    "### Q5.\n",
    "\n",
    "Faça um programa que lê dois inteiros N e M, e imprime na tela um campo de batalha naval. O tabuleiro deve possuir N linhas e M colunas. A primeira linha é composta por um espaço em branco e o cabeçalho das colunas, ou seja, valores de 1 a M. As N linhas seguintes iniciam com o cabeçalho da linha, ou seja, seu número, seguido de M caracteres \"/\" (barra) indicando uma possível posição jogável. \n",
    "\n",
    "```\n",
    "Entrada:\n",
    "5\n",
    "4\n",
    "\n",
    "Saída:\n",
    "  1 2 3 4 \n",
    "1 / / / / \n",
    "2 / / / / \n",
    "3 / / / / \n",
    "4 / / / / \n",
    "5 / / / / \n",
    "```\n",
    "\n",
    "Para esse exercício, precisamos lembrar que o comando print implicitamente adiciona uma quebra de linha ao final da impressão. Podemos interferir no final da impressão adicionando mais uma entrada ao print. No exemplo, finalizamos cada linha com um espaço em branco:\n",
    "```python\n",
    "print(\"Texto qualquer\", end = \" \")\n",
    "```"
   ]
  },
  {
   "cell_type": "code",
   "execution_count": null,
   "id": "a60ef197",
   "metadata": {},
   "outputs": [
    {
     "name": "stdout",
     "output_type": "stream",
     "text": [
      "  1 2 3 \n",
      "1 / / / \n",
      "2 / / / \n"
     ]
    }
   ],
   "source": [
    "# Lê os valores de N e M\n",
    "N = int(input())\n",
    "M = int(input())\n",
    "\n",
    "# Imprime o cabeçalho das colunas\n",
    "print(\" \", end=\" \")  # Espaço inicial para alinhar com as linhas\n",
    "for coluna in range(1, M + 1):\n",
    "    print(coluna, end=\" \")\n",
    "print()  # Nova linha\n",
    "\n",
    "# Imprime as linhas do tabuleiro\n",
    "for linha in range(1, N + 1):\n",
    "    print(linha, end=\" \")  # Número da linha\n",
    "    for _ in range(M):\n",
    "        print(\"/\", end=\" \")  # Caracteres \"/\"\n",
    "    print()  # Nova linha\n"
   ]
  },
  {
   "cell_type": "markdown",
   "id": "4654dc0b",
   "metadata": {},
   "source": [
    "---\n",
    "## Break e Continue"
   ]
  },
  {
   "cell_type": "markdown",
   "id": "24fe9d85",
   "metadata": {},
   "source": [
    "### Q6.\n",
    "\n",
    "Escreva um programa que lê uma quantidade indefinida de valores e informa o maior e o menor valor digitados. A leitura é encerrada quando o usuário digitar o valor 0 (zero).\n",
    "\n",
    "```\n",
    "Entrada:\n",
    "12\n",
    "-1\n",
    "29\n",
    "11\n",
    "-5\n",
    "0\n",
    "\n",
    "Saída:\n",
    "Maior: 29\n",
    "Menor: -5\n",
    "```"
   ]
  },
  {
   "cell_type": "code",
   "execution_count": null,
   "id": "ee1c466a",
   "metadata": {},
   "outputs": [],
   "source": [
    "# Inicializa as variáveis de maior e menor valor como None\n",
    "maior = None\n",
    "menor = None\n",
    "\n",
    "while True:\n",
    "    num = int(input())  # Lê um número inteiro\n",
    "\n",
    "    if num == 0:  # Encerra quando o usuário digita 0\n",
    "        break\n",
    "\n",
    "    # Atualiza o maior e o menor valor\n",
    "    if maior is None or num > maior:\n",
    "        maior = num\n",
    "    if menor is None or num < menor:\n",
    "        menor = num\n",
    "\n",
    "# Exibe os resultados se pelo menos um número foi digitado antes do 0\n",
    "if maior is not None and menor is not None:\n",
    "    print(f\"Maior: {maior}\")\n",
    "    print(f\"Menor: {menor}\")\n"
   ]
  },
  {
   "cell_type": "markdown",
   "id": "30d486f7",
   "metadata": {},
   "source": [
    "### Q7.\n",
    "\n",
    "Escreva um programa que lê uma quantidade indefinida de valores e informa o **produto** dos valores positivos digitados. A leitura é encerrada quando o usuário digitar o valor 0 (zero).\n",
    "\n",
    "```\n",
    "Entrada:\n",
    "2\n",
    "-1\n",
    "1\n",
    "3\n",
    "-5\n",
    "0\n",
    "\n",
    "Saída:\n",
    "Produto: 6\n",
    "```"
   ]
  },
  {
   "cell_type": "code",
   "execution_count": null,
   "id": "2f1ac324",
   "metadata": {},
   "outputs": [
    {
     "name": "stdout",
     "output_type": "stream",
     "text": [
      "Produto: 432\n"
     ]
    }
   ],
   "source": [
    "# Inicializa o produto como 1 (neutro multiplicativo)\n",
    "produto = 1\n",
    "tem_positivo = False  # Para verificar se houve pelo menos um número positivo\n",
    "\n",
    "while True:\n",
    "    num = int(input())  # Lê um número inteiro\n",
    "\n",
    "    if num == 0:  # Encerra quando o usuário digita 0\n",
    "        break\n",
    "\n",
    "    if num > 0:  # Considera apenas valores positivos\n",
    "        produto *= num\n",
    "        tem_positivo = True  # Marca que pelo menos um número positivo foi lido\n",
    "\n",
    "# Exibe o resultado, garantindo que houve pelo menos um número positivo\n",
    "if tem_positivo:\n",
    "    print(f\"Produto: {produto}\")\n",
    "else:\n",
    "    print(\"Produto: 0\")  # Se nenhum positivo foi digitado, produto é 0\n"
   ]
  },
  {
   "cell_type": "markdown",
   "id": "e932f3cf",
   "metadata": {},
   "source": [
    "### Q8.\n",
    "\n",
    "Vamos fazer uma calculadora que aceita expressões aritméticas de qualquer tamanho até que o usuário digite a palavra \"Fim\". Sua calculadora executa apenas as operações \"+\", \"-\".\n",
    "\n",
    "```\n",
    "Entrada:\n",
    "5\n",
    "+\n",
    "8\n",
    "-\n",
    "3\n",
    "+\n",
    "2\n",
    "Fim\n",
    "\n",
    "Saída:\n",
    "12\n",
    "```"
   ]
  },
  {
   "cell_type": "code",
   "execution_count": null,
   "id": "e835d870",
   "metadata": {},
   "outputs": [
    {
     "name": "stdout",
     "output_type": "stream",
     "text": [
      "2\n"
     ]
    }
   ],
   "source": [
    "# Lê o primeiro número\n",
    "resultado = int(input())\n",
    "\n",
    "while True:\n",
    "    operacao = input()  # Lê o operador ou \"Fim\"\n",
    "\n",
    "    if operacao == \"Fim\":  # Encerra o programa\n",
    "        break\n",
    "\n",
    "    numero = int(input())  # Lê o próximo número\n",
    "\n",
    "    if operacao == \"+\":\n",
    "        resultado += numero\n",
    "    elif operacao == \"-\":\n",
    "        resultado -= numero\n",
    "\n",
    "# Exibe o resultado final\n",
    "print(resultado)\n"
   ]
  }
 ],
 "metadata": {
  "kernelspec": {
   "display_name": "Python 3",
   "language": "python",
   "name": "python3"
  },
  "language_info": {
   "codemirror_mode": {
    "name": "ipython",
    "version": 3
   },
   "file_extension": ".py",
   "mimetype": "text/x-python",
   "name": "python",
   "nbconvert_exporter": "python",
   "pygments_lexer": "ipython3",
   "version": "3.12.2"
  }
 },
 "nbformat": 4,
 "nbformat_minor": 5
}
