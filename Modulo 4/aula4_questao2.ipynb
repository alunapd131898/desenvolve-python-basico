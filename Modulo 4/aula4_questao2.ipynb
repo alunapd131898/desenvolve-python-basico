{
 "cells": [
  {
   "cell_type": "code",
   "execution_count": null,
   "metadata": {},
   "outputs": [],
   "source": [
    "# Leitura do valor de n\n",
    "n = int(input(\"Digite um número: \"))\n",
    "\n",
    "# Inicialização do contador\n",
    "cont = 0\n",
    "\n",
    "# Estrutura de repetição\n",
    "while cont < n:\n",
    "    cont += 1\n",
    "    print(cont)\n",
    "\n",
    "# Impressão final\n",
    "print(\"Fim\")\n"
   ]
  }
 ],
 "metadata": {
  "kernelspec": {
   "display_name": "Python 3",
   "language": "python",
   "name": "python3"
  },
  "language_info": {
   "name": "python",
   "version": "3.12.2"
  }
 },
 "nbformat": 4,
 "nbformat_minor": 2
}
