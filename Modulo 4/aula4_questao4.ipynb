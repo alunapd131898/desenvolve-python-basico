{
 "cells": [
  {
   "cell_type": "code",
   "execution_count": 1,
   "metadata": {},
   "outputs": [
    {
     "name": "stdout",
     "output_type": "stream",
     "text": [
      "O maior número é: 13\n"
     ]
    }
   ],
   "source": [
    "# Leitura do número de valores a serem comparados\n",
    "n = int(input(\"Digite a quantidade de número: \"))\n",
    "\n",
    "# Inicializa a váriavel para armazenar o maior número\n",
    "maior = 0\n",
    "\n",
    "# Loop para ler os valores enquanto n for maior que 0\n",
    "while n > 0:\n",
    "    x = int (input(\"Digite um número: \")) # Leitura de um número\n",
    "\n",
    "    if x > maior: # verifica se o número é maior que o maior atual\n",
    "        maior = x # Atualiza o maior número\n",
    "\n",
    "    n -=1 # Decrementa o contador\n",
    "\n",
    "# Exibe o maior número encontrado\n",
    "print(\"O maior número é:\", maior)        \n",
    "\n",
    "\n"
   ]
  }
 ],
 "metadata": {
  "kernelspec": {
   "display_name": "Python 3",
   "language": "python",
   "name": "python3"
  },
  "language_info": {
   "codemirror_mode": {
    "name": "ipython",
    "version": 3
   },
   "file_extension": ".py",
   "mimetype": "text/x-python",
   "name": "python",
   "nbconvert_exporter": "python",
   "pygments_lexer": "ipython3",
   "version": "3.12.2"
  }
 },
 "nbformat": 4,
 "nbformat_minor": 2
}
