{
 "cells": [
  {
   "cell_type": "code",
   "execution_count": 12,
   "metadata": {},
   "outputs": [
    {
     "name": "stdout",
     "output_type": "stream",
     "text": [
      "Maior que 5\n",
      "Fim\n"
     ]
    }
   ],
   "source": [
    "# Solicita um número ao usuário\n",
    "x = float(input(\"Digite um número: \"))\n",
    "\n",
    "# Verifica se x é maior que 5\n",
    "if x > 5:\n",
    "    print(\"Maior que 5\")   \n",
    "    \n",
    "# Sempre imprime \"Fim\"\n",
    "print(\"Fim\")\n",
    "\n"
   ]
  }
 ],
 "metadata": {
  "kernelspec": {
   "display_name": "Python 3",
   "language": "python",
   "name": "python3"
  },
  "language_info": {
   "codemirror_mode": {
    "name": "ipython",
    "version": 3
   },
   "file_extension": ".py",
   "mimetype": "text/x-python",
   "name": "python",
   "nbconvert_exporter": "python",
   "pygments_lexer": "ipython3",
   "version": "3.12.2"
  }
 },
 "nbformat": 4,
 "nbformat_minor": 2
}
