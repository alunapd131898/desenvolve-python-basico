{
 "cells": [
  {
   "cell_type": "code",
   "execution_count": 1,
   "metadata": {},
   "outputs": [
    {
     "name": "stdout",
     "output_type": "stream",
     "text": [
      "A média das idades é 11 anos\n"
     ]
    }
   ],
   "source": [
    "# Um instituto realizou uma pesquisa de público e precisa calcular a média de idade dos respondentes. \n",
    "# Escreva um programa que leia um inteiro N com a quantidade de respondentes e em seguida leia as N idades de cada respondente.\n",
    "# Ao final, imprima a média das idades.\n",
    "# (idade1 + idade2 + idade3 + … + idade_n)/N\n",
    "\n",
    "n = int(input(\"Digite a quantidade de respondente\"))\n",
    "\n",
    "# inicializar as variaveis\n",
    "soma = 0 # resultado -> soma + idade\n",
    "cont = 0 # variavel de controle do laço\n",
    "\n",
    "while cont < n:\n",
    "    idade = int(input(\"Digite a idade do respondente\"))\n",
    "    soma += idade #soma = soma + idade\n",
    "\n",
    "    # atualizando a variavel de controle do laço cont += 1 # cont = cont + 1\n",
    "    cont += 1 # cont = cont + 1\n",
    "\n",
    "# imprimir a média\n",
    "print (f\"A média das idades é {soma/n:.0f} anos\")    \n",
    "\n",
    "\n"
   ]
  }
 ],
 "metadata": {
  "kernelspec": {
   "display_name": "Python 3",
   "language": "python",
   "name": "python3"
  },
  "language_info": {
   "codemirror_mode": {
    "name": "ipython",
    "version": 3
   },
   "file_extension": ".py",
   "mimetype": "text/x-python",
   "name": "python",
   "nbconvert_exporter": "python",
   "pygments_lexer": "ipython3",
   "version": "3.12.2"
  }
 },
 "nbformat": 4,
 "nbformat_minor": 2
}
