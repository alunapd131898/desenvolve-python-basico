{
 "cells": [
  {
   "cell_type": "code",
   "execution_count": 5,
   "metadata": {},
   "outputs": [
    {
     "ename": "ValueError",
     "evalue": "invalid literal for int() with base 10: '3 C'",
     "output_type": "error",
     "traceback": [
      "\u001b[1;31m---------------------------------------------------------------------------\u001b[0m",
      "\u001b[1;31mValueError\u001b[0m                                Traceback (most recent call last)",
      "Cell \u001b[1;32mIn[5], line 10\u001b[0m\n\u001b[0;32m      8\u001b[0m \u001b[38;5;66;03m# Iterações\u001b[39;00m\n\u001b[0;32m      9\u001b[0m \u001b[38;5;28;01mwhile\u001b[39;00m cont \u001b[38;5;241m<\u001b[39m n:\n\u001b[1;32m---> 10\u001b[0m     quantia \u001b[38;5;241m=\u001b[39m \u001b[38;5;28;43mint\u001b[39;49m\u001b[43m(\u001b[49m\u001b[38;5;28;43minput\u001b[39;49m\u001b[43m(\u001b[49m\u001b[43m)\u001b[49m\u001b[43m)\u001b[49m\n\u001b[0;32m     11\u001b[0m     tipo \u001b[38;5;241m=\u001b[39m \u001b[38;5;28minput\u001b[39m()\n\u001b[0;32m     13\u001b[0m     \u001b[38;5;28;01mif\u001b[39;00m tipo \u001b[38;5;241m==\u001b[39m \u001b[38;5;124m'\u001b[39m\u001b[38;5;124mS\u001b[39m\u001b[38;5;124m'\u001b[39m:\n",
      "\u001b[1;31mValueError\u001b[0m: invalid literal for int() with base 10: '3 C'"
     ]
    }
   ],
   "source": [
    "# Entrada de dados\n",
    "n = int(input()) # quantidade de experimentos\n",
    "\n",
    "# Inicializar as variaveis resultado e controle\n",
    "cont = 0\n",
    "soma_sapo, soma_rato, soma_coelho = 0, 0, 0\n",
    "\n",
    "# Iterações\n",
    "while cont < n:\n",
    "    quantia = int(input())\n",
    "    tipo = input()\n",
    "\n",
    "    if tipo == 'S':\n",
    "        soma_sapo += quantia\n",
    "    elif tipo == 'R':\n",
    "        soma_rato += quantia\n",
    "    elif tipo == 'C':\n",
    "        soma_coelho += quantia\n",
    "\n",
    "            \n",
    "    cont += 1\n",
    "\n",
    "\n",
    "print(\"Total de cobaias: \", soma_sapo+soma_rato+soma_coelho)\n",
    "print(\"Total de sapo: \", soma_sapo)\n",
    "print(\"Total de ratos: \", soma_rato)\n",
    "print(\"Total de coelho:\", soma_coelho)    "
   ]
  },
  {
   "cell_type": "code",
   "execution_count": null,
   "metadata": {},
   "outputs": [],
   "source": []
  }
 ],
 "metadata": {
  "kernelspec": {
   "display_name": "Python 3",
   "language": "python",
   "name": "python3"
  },
  "language_info": {
   "codemirror_mode": {
    "name": "ipython",
    "version": 3
   },
   "file_extension": ".py",
   "mimetype": "text/x-python",
   "name": "python",
   "nbconvert_exporter": "python",
   "pygments_lexer": "ipython3",
   "version": "3.12.2"
  }
 },
 "nbformat": 4,
 "nbformat_minor": 2
}
